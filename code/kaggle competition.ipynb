{
 "cells": [
  {
   "cell_type": "code",
   "execution_count": 1,
   "metadata": {},
   "outputs": [],
   "source": [
    "import pandas as pd\n",
    "import numpy as np\n",
    "from sklearn.feature_extraction.text import TfidfVectorizer\n",
    "from sklearn import metrics\n",
    "from sklearn.preprocessing import LabelEncoder\n",
    "from sklearn.feature_selection import SelectPercentile, chi2\n",
    "from sklearn.neural_network import MLPClassifier\n",
    "\n",
    "# Read Data\n",
    "df = pd.read_csv('reddit_train.csv')\n",
    "df2 = pd.read_csv('reddit_test.csv')\n",
    "\n",
    "# Pre- processing \n",
    "tfidf_vectorizer = TfidfVectorizer(analyzer='word', binary=False, decode_error='strict',\n",
    "                encoding='utf-8',\n",
    "                input='content', lowercase=True, max_df=0.1, max_features=None,\n",
    "                min_df=1, ngram_range=(1, 1), norm='l2', preprocessor=None,\n",
    "                smooth_idf=False, stop_words=['english','http','www'], strip_accents=None,\n",
    "                sublinear_tf=True, token_pattern='(?u)\\\\b\\\\w\\\\w+\\\\b',\n",
    "                tokenizer=None, use_idf=True, vocabulary=None)\n",
    "# TF-IDF feature matrix\n",
    "tfidf = tfidf_vectorizer.fit_transform(df['comments'])\n",
    "tfidf2 = tfidf_vectorizer.transform(df2['comments'])\n",
    "\n",
    "\n",
    "# Target labels\n",
    "le = LabelEncoder()\n",
    "df['label'] = le.fit_transform(df['subreddits'])\n",
    "y_train = df['label'].to_numpy()\n",
    "\n",
    "# Feature reduction\n",
    "select_best = SelectPercentile(chi2, percentile=23)\n",
    "X_train = select_best.fit_transform(tfidf, y_train)\n",
    "X_test = select_best.transform(tfidf2)\n",
    "\n",
    "# Model initilize \n",
    "clf = MLPClassifier(hidden_layer_sizes=(95,),alpha=0.00005, batch_size=200, learning_rate='invscaling',\n",
    "                    learning_rate_init=0.0009, power_t=0.9, max_iter=100, shuffle=True,\n",
    "                    tol=0.1, validation_fraction=0.8, epsilon=1e-8, n_iter_no_change=2)\n",
    "# Model fit\n",
    "clf.fit(X_train,y_train)\n",
    "\n",
    "# Model predict\n",
    "predict = clf.predict(X_test)\n",
    "predicted_label = le.inverse_transform(predict)\n",
    "\n",
    "# Save prediction\n",
    "dict_df = {'Id': df2['id'], 'Category': predicted_label}\n",
    "df_label = pd.DataFrame(dict_df, )\n",
    "df_label.to_csv('prediction.csv', index=False, header=True, encoding='utf-8')\n"
   ]
  }
 ],
 "metadata": {
  "kernelspec": {
   "display_name": "Python 3",
   "language": "python",
   "name": "python3"
  },
  "language_info": {
   "codemirror_mode": {
    "name": "ipython",
    "version": 3
   },
   "file_extension": ".py",
   "mimetype": "text/x-python",
   "name": "python",
   "nbconvert_exporter": "python",
   "pygments_lexer": "ipython3",
   "version": "3.7.4"
  }
 },
 "nbformat": 4,
 "nbformat_minor": 2
}
