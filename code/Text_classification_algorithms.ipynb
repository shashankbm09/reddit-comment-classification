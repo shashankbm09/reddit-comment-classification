{
 "cells": [
  {
   "cell_type": "code",
   "execution_count": 1,
   "metadata": {},
   "outputs": [
    {
     "data": {
      "text/plain": [
       "model_name\n",
       "LinearSVC             0.585143\n",
       "LogisticRegression    0.545043\n",
       "MLPClassifier         0.587129\n",
       "MultinomialNB         0.598443\n",
       "Name: accuracy, dtype: float64"
      ]
     },
     "execution_count": 1,
     "metadata": {},
     "output_type": "execute_result"
    }
   ],
   "source": [
    "import pandas as pd\n",
    "import numpy as np\n",
    "from sklearn.feature_extraction.text import TfidfVectorizer\n",
    "from sklearn.preprocessing import LabelEncoder\n",
    "from sklearn.model_selection import cross_val_score\n",
    "from sklearn import linear_model\n",
    "from sklearn.metrics import accuracy_score\n",
    "from sklearn.naive_bayes import MultinomialNB\n",
    "from sklearn.svm import LinearSVC\n",
    "from sklearn.feature_selection import SelectPercentile, chi2\n",
    "from sklearn.neural_network import MLPClassifier\n",
    "from sklearn.linear_model import LogisticRegression\n",
    "\n",
    "# Read Data\n",
    "df = pd.read_csv('reddit_train.csv')\n",
    "\n",
    "# Pre- processing \n",
    "tfidf_vectorizer = TfidfVectorizer(max_df=0.1,smooth_idf=False, \n",
    "                   stop_words=['english','http','www'],sublinear_tf=True, tokenizer=None, use_idf=True)\n",
    "# TF-IDF feature matrix\n",
    "tfidf = tfidf_vectorizer.fit_transform(df['comments'])\n",
    "\n",
    "# Target labels\n",
    "le = LabelEncoder()\n",
    "df['label'] = le.fit_transform(df['subreddits'])\n",
    "y_train = df['label'].to_numpy()\n",
    "\n",
    "# Feature reduction\n",
    "select_best = SelectPercentile(chi2, percentile=23)\n",
    "X_train = select_best.fit_transform(tfidf, y_train)\n",
    "\n",
    "# Model initilize\n",
    "models = [\n",
    "       LogisticRegression(C=25,solver='lbfgs', multi_class='multinomial',  max_iter=1000),\n",
    "       LinearSVC(C=0.30),\n",
    "       MultinomialNB(alpha = 0.08),\n",
    "       MLPClassifier(hidden_layer_sizes=(95,),alpha=0.00005, batch_size=200, learning_rate='invscaling',\n",
    "                    learning_rate_init=0.0009, power_t=0.9, max_iter=100, shuffle=True,\n",
    "                    tol=0.1, validation_fraction=0.8, epsilon=1e-8, n_iter_no_change=2)\n",
    "]\n",
    "\n",
    "# Cross validation\n",
    "Cross_validation_fold = 5\n",
    "cv_df = pd.DataFrame(index=range(Cross_validation_fold * len(models)))\n",
    "entries = []\n",
    "for model in models:\n",
    "  model_name = type(model).__name__\n",
    "  accuracies = cross_val_score(model, X_train, y_train, scoring='accuracy',n_jobs=-1, cv=Cross_validation_fold)\n",
    "  for fold_idx, accuracy in enumerate(accuracies):\n",
    "    entries.append((model_name, fold_idx, accuracy))\n",
    "cv_df = pd.DataFrame(entries, columns=['model_name', 'fold_index', 'accuracy'])\n",
    "cv_df.groupby('model_name').accuracy.mean()"
   ]
  },
  {
   "cell_type": "code",
   "execution_count": 3,
   "metadata": {},
   "outputs": [
    {
     "data": {
      "image/png": "[encoded data removed]",
      "text/plain": [
       "<Figure size 432x288 with 1 Axes>"
      ]
     },
     "metadata": {
      "needs_background": "light"
     },
     "output_type": "display_data"
    }
   ],
   "source": [
    "import seaborn as sns\n",
    "ax = sns.boxplot(x=\"model_name\", y=\"accuracy\", data=cv_df,width=0.4, dodge=True, fliersize=5, linewidth=1.5, palette=\"Set3\")\n",
    "#ax.figure.savefig(\"comparision.png\")"
   ]
  }
 ],
 "metadata": {
  "kernelspec": {
   "display_name": "Python 3",
   "language": "python",
   "name": "python3"
  },
  "language_info": {
   "codemirror_mode": {
    "name": "ipython",
    "version": 3
   },
   "file_extension": ".py",
   "mimetype": "text/x-python",
   "name": "python",
   "nbconvert_exporter": "python",
   "pygments_lexer": "ipython3",
   "version": "3.7.4"
  }
 },
 "nbformat": 4,
 "nbformat_minor": 2
}
